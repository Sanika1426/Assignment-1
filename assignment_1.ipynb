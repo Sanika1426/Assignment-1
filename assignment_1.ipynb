{
  "nbformat": 4,
  "nbformat_minor": 0,
  "metadata": {
    "colab": {
      "provenance": []
    },
    "kernelspec": {
      "name": "python3",
      "display_name": "Python 3"
    },
    "language_info": {
      "name": "python"
    }
  },
  "cells": [
    {
      "cell_type": "markdown",
      "source": [
        "Theory questions\n",
        "\n",
        "1. What is Python, and why is it popular?\n",
        "- Python is a high-level, interpreted programming language known for its simple, readable syntax and versatility. It was created by Guido van Rossum and first released in 1991.\n",
        "-  🔹 What is Python?\n",
        "\n",
        "    High-level: Closer to human language than machine code.\n",
        "\n",
        "    Interpreted: Executes line-by-line without needing compilation.\n",
        "\n",
        "    Dynamically typed: You don’t have to declare variable types explicitly.\n",
        "\n",
        "    General-purpose: Used for web development, data science, AI, automation, and more.\n",
        "2. What is an interpreter in Python ?\n",
        "-     A Python interpreter is what reads your Python code and makes the computer do what you told it to — line by line'\n",
        "3. What are pre-defined keywords in Python?\n",
        "- Pre-defined keywords in Python are reserved words that have special meaning in the language.\n",
        "You cannot use them as variable names, function names, or identifiers\n",
        "4. Can keywords be used as variable names?\n",
        "-  No, keywords cannot be used as variable names in Python.\n",
        "5.  What is mutability in Python?\n",
        "- Mutability refers to whether an object’s value can be changed after it is created\n",
        "6. Why are lists mutable, but tuples are immutable?\n",
        "- The difference comes down to design choices in Python that balance flexibility, performance, and safety.\n",
        "7. What is the difference between “==” and “is” operators in Python?\n",
        "- == checks what the values are,\n",
        "is checks whether they are the same object in memory.\n",
        "8. 18 What are logical operators in Python?\n",
        "- Logical operators in Python are used to combine multiple conditions and return either True or False based on logical relationships.\n",
        "9. What is type casting in Python ?\n",
        "- Type casting in Python means converting one data type into another — for example, turning a string into an integer, or a float into a string.\n",
        "10. What is the difference between implicit and explicit type casting?\n",
        "- mplicit casting happens automatically when Python safely converts types for you.\n",
        "\n",
        " Explicit casting happens when you manually convert a value using functions like int() or str().\n",
        "11. What is the purpose of conditional statements in Python ?\n",
        "- Conditional statements in Python are used to make decisions in your code.\n",
        "\n",
        " They allow the program to execute different blocks of code based on conditions, like checking if a number is positive, if a user is old enough, or if a password is correct.\n",
        "12. How does the elif statement work?\n",
        "- The elif (short for \"else if\") statement lets you check multiple conditions in a cleaner way after an initial if condition.\n",
        "\n",
        " It’s used when you have more than two possible outcomes and want to test additional conditions if the first one is false.\n",
        "13. What is the difference between for and while loops?\n",
        "- Use a for loop when you know how many times to run.\n",
        "Use a while loop when you want to run until something happens.\n",
        "14. Describe a scenario where a while loop is more suitable than a for loop?\n",
        "- Scenario Where a while Loop Is More Suitable Than a for Loop\n",
        "A while loop is more suitable when you don’t know in advance how many times the loop should run — you only know it should continue while a certain condition is true.\n",
        "\n",
        "\n",
        "Practical Questions\n",
        "\n",
        "\n",
        "\n",
        "\n",
        "\n",
        "\n",
        "\n",
        "   \n",
        "\n",
        ""
      ],
      "metadata": {
        "id": "6H1L6upwzGlG"
      }
    },
    {
      "cell_type": "code",
      "source": [
        " #Write a Python program to print \"Hello, World!#\n",
        "print(\"Hello, World!\")\n"
      ],
      "metadata": {
        "colab": {
          "base_uri": "https://localhost:8080/"
        },
        "id": "r-51GJE24cuR",
        "outputId": "8875e3bc-8f8f-43fb-a1b6-6c04978899e3"
      },
      "execution_count": 1,
      "outputs": [
        {
          "output_type": "stream",
          "name": "stdout",
          "text": [
            "Hello, World!\n"
          ]
        }
      ]
    },
    {
      "cell_type": "code",
      "source": [
        "#Write a Python program that displays your name and age#\n",
        "# Python program to display name and age\n",
        "# Python program to display name and age\n",
        "\n",
        "name = \"Sanika\"\n",
        "age = 20\n",
        "\n",
        "print(\"My name is\", name)\n",
        "print(\"I am\", age, \"years old\")\n",
        "\n"
      ],
      "metadata": {
        "colab": {
          "base_uri": "https://localhost:8080/"
        },
        "id": "NJW9RZUX5A43",
        "outputId": "2e1f8765-430b-4de6-c0ea-c47ad716a4f1"
      },
      "execution_count": 6,
      "outputs": [
        {
          "output_type": "stream",
          "name": "stdout",
          "text": [
            "My name is Sanika\n",
            "I am 20 years old\n"
          ]
        }
      ]
    },
    {
      "cell_type": "code",
      "source": [
        "# Write code to print all the pre-defined keywords in Python using the keyword library#\n",
        "import keyword\n",
        "\n",
        "print(\"Python Keywords:\")\n",
        "print(keyword.kwlist)\n",
        "\n",
        "print(\"\\nTotal number of keywords:\", len(keyword.kwlist))\n"
      ],
      "metadata": {
        "colab": {
          "base_uri": "https://localhost:8080/"
        },
        "id": "-yJxW90Y565D",
        "outputId": "a0180bb3-2576-428e-c22e-127c7fc6677f"
      },
      "execution_count": 7,
      "outputs": [
        {
          "output_type": "stream",
          "name": "stdout",
          "text": [
            "Python Keywords:\n",
            "['False', 'None', 'True', 'and', 'as', 'assert', 'async', 'await', 'break', 'class', 'continue', 'def', 'del', 'elif', 'else', 'except', 'finally', 'for', 'from', 'global', 'if', 'import', 'in', 'is', 'lambda', 'nonlocal', 'not', 'or', 'pass', 'raise', 'return', 'try', 'while', 'with', 'yield']\n",
            "\n",
            "Total number of keywords: 35\n"
          ]
        }
      ]
    },
    {
      "cell_type": "code",
      "source": [
        "# Write a program that checks if a given word is a Python keyword#\n",
        "import keyword\n",
        "\n",
        "word = input(\"Enter a word: \")\n",
        "\n",
        "if keyword.iskeyword(word):\n",
        "    print(f\"'{word}' is a Python keyword.\")\n",
        "else:\n",
        "    print(f\"'{word}' is NOT a Python keyword.\")\n"
      ],
      "metadata": {
        "colab": {
          "base_uri": "https://localhost:8080/"
        },
        "id": "9Wi58fX06eu_",
        "outputId": "ff0b0244-2c33-4d64-9d7b-8ba2328c59c3"
      },
      "execution_count": 8,
      "outputs": [
        {
          "output_type": "stream",
          "name": "stdout",
          "text": [
            "Enter a word: hello\n",
            "'hello' is NOT a Python keyword.\n"
          ]
        }
      ]
    },
    {
      "cell_type": "code",
      "source": [
        "# Create a list and tuple in Python, and demonstrate how attempting to change an element works differently\n",
        "# Create a list and a tuple\n",
        "my_list = [10, 20, 30]\n",
        "my_tuple = (10, 20, 30)\n",
        "\n",
        "# Modify the first element of the list\n",
        "my_list[0] = 100\n",
        "print(\"Modified list:\", my_list)\n",
        "\n",
        "# Try to modify the first element of the tuple\n",
        "try:\n",
        "    my_tuple[0] = 100\n",
        "except TypeError as e:\n",
        "    print(\"Error when modifying tuple:\", e)\n"
      ],
      "metadata": {
        "colab": {
          "base_uri": "https://localhost:8080/"
        },
        "id": "G07smLDD7BNs",
        "outputId": "b4bc8218-ef6c-4a44-c6f2-171b46fa1501"
      },
      "execution_count": 10,
      "outputs": [
        {
          "output_type": "stream",
          "name": "stdout",
          "text": [
            "Modified list: [100, 20, 30]\n",
            "Error when modifying tuple: 'tuple' object does not support item assignment\n"
          ]
        }
      ]
    },
    {
      "cell_type": "code",
      "source": [
        "#  Write a function to demonstrate the behavior of mutable and immutable arguments#\n",
        "def modify_args(a_number, a_list):\n",
        "    a_number += 10\n",
        "    a_list.append(100)\n",
        "    print(\"Inside function:\")\n",
        "    print(\"a_number =\", a_number)\n",
        "    print(\"a_list =\", a_list)\n",
        "\n",
        "num = 50\n",
        "\n",
        "my_list = [1, 2, 3]\n",
        "\n",
        "modify_args(num, my_list)\n",
        "\n",
        "print(\"\\nOutside function:\")\n",
        "print(\"num =\", num)\n",
        "print(\"my_list =\", my_list)\n"
      ],
      "metadata": {
        "colab": {
          "base_uri": "https://localhost:8080/"
        },
        "id": "Cq0IVfbp7w0s",
        "outputId": "c378079c-30bb-484d-cb8d-71532e68f868"
      },
      "execution_count": 11,
      "outputs": [
        {
          "output_type": "stream",
          "name": "stdout",
          "text": [
            "Inside function:\n",
            "a_number = 60\n",
            "a_list = [1, 2, 3, 100]\n",
            "\n",
            "Outside function:\n",
            "num = 50\n",
            "my_list = [1, 2, 3, 100]\n"
          ]
        }
      ]
    },
    {
      "cell_type": "code",
      "source": [
        "# Write a program that performs basic arithmetic operations on two user-input numbers#\n",
        "num1 = float(input(\"Enter first number: \"))\n",
        "num2 = float(input(\"Enter second number: \"))\n",
        "\n",
        "print(\"\\nResults:\")\n",
        "print(\"Addition:\", num1 + num2)\n",
        "print(\"Subtraction:\", num1 - num2)\n",
        "print(\"Multiplication:\", num1 * num2)\n",
        "\n",
        "if num2 != 0:\n",
        "    print(\"Division:\", num1 / num2)\n",
        "else:\n",
        "    print(\"Division: Cannot divide by zero\")\n"
      ],
      "metadata": {
        "colab": {
          "base_uri": "https://localhost:8080/"
        },
        "id": "jrzPyt9J8Rup",
        "outputId": "a1e11f8f-559c-4f71-b1ce-13f6da84a6d1"
      },
      "execution_count": 12,
      "outputs": [
        {
          "output_type": "stream",
          "name": "stdout",
          "text": [
            "Enter first number: 12\n",
            "Enter second number: 4\n",
            "\n",
            "Results:\n",
            "Addition: 16.0\n",
            "Subtraction: 8.0\n",
            "Multiplication: 48.0\n",
            "Division: 3.0\n"
          ]
        }
      ]
    },
    {
      "cell_type": "code",
      "source": [
        "# Write a program to demonstrate the use of logical operators#\n",
        "# Get two numbers from the user\n",
        "a = int(input(\"Enter the first number: \"))\n",
        "b = int(input(\"Enter the second number: \"))\n",
        "\n",
        "print(\"\\nLogical Operators Demo:\")\n",
        "\n",
        "# AND operator\n",
        "if a > 0 and b > 0:\n",
        "    print(\"Both numbers are positive.\")\n",
        "\n",
        "# OR operator\n",
        "if a > 0 or b > 0:\n",
        "    print(\"At least one number is positive.\")\n",
        "\n",
        "# NOT operator\n",
        "if not (a < 0 or b < 0):\n",
        "    print(\"Neither number is negative.\")\n",
        "else:\n",
        "    print(\"At least one number is negative.\")\n"
      ],
      "metadata": {
        "colab": {
          "base_uri": "https://localhost:8080/"
        },
        "id": "2V6SnT0-8-rS",
        "outputId": "b6e6c1b0-3e9c-406f-aed1-f097e9ce705e"
      },
      "execution_count": 13,
      "outputs": [
        {
          "output_type": "stream",
          "name": "stdout",
          "text": [
            "Enter the first number: 6\n",
            "Enter the second number: -4\n",
            "\n",
            "Logical Operators Demo:\n",
            "At least one number is positive.\n",
            "At least one number is negative.\n"
          ]
        }
      ]
    },
    {
      "cell_type": "code",
      "source": [
        "# . Write a Python program to convert user input from string to integer, float, and boolean types#\n",
        "user_input = input(\"Enter a value: \")\n",
        "\n",
        "# Convert to integer\n",
        "try:\n",
        "    int_value = int(user_input)\n",
        "    print(\"Integer:\", int_value)\n",
        "except ValueError:\n",
        "    print(\"Cannot convert to Integer.\")\n",
        "\n",
        "# Convert to float\n",
        "try:\n",
        "    float_value = float(user_input)\n",
        "    print(\"Float:\", float_value)\n",
        "except ValueError:\n",
        "    print(\"Cannot convert to Float.\")\n",
        "\n",
        "# Convert to boolean\n",
        "bool_value = bool(user_input)\n",
        "print(\"Boolean:\", bool_value)\n"
      ],
      "metadata": {
        "colab": {
          "base_uri": "https://localhost:8080/"
        },
        "id": "q9sCFZeG9VBm",
        "outputId": "9d55f222-5886-4bc7-dd79-72a95ab6e233"
      },
      "execution_count": 14,
      "outputs": [
        {
          "output_type": "stream",
          "name": "stdout",
          "text": [
            "Enter a value: 24\n",
            "Integer: 24\n",
            "Float: 24.0\n",
            "Boolean: True\n"
          ]
        }
      ]
    },
    {
      "cell_type": "code",
      "source": [
        "# Write code to demonstrate type casting with list elements#\n",
        "str_list = [\"10\", \"20\", \"30\", \"40\"]\n",
        "\n",
        "int_list = [int(x) for x in str_list]\n",
        "\n",
        "float_list = [float(x) for x in str_list]\n",
        "\n",
        "bool_list = [bool(x) for x in str_list]\n",
        "\n",
        "# Display results\n",
        "print(\"Original string list:\", str_list)\n",
        "print(\"After casting to integers:\", int_list)\n",
        "print(\"After casting to floats:\", float_list)\n",
        "print(\"After casting to booleans:\", bool_list)\n"
      ],
      "metadata": {
        "colab": {
          "base_uri": "https://localhost:8080/"
        },
        "id": "IHqzNPCG9wv-",
        "outputId": "365689e5-de59-4d3b-fa66-eb5d7d0e7c31"
      },
      "execution_count": 15,
      "outputs": [
        {
          "output_type": "stream",
          "name": "stdout",
          "text": [
            "Original string list: ['10', '20', '30', '40']\n",
            "After casting to integers: [10, 20, 30, 40]\n",
            "After casting to floats: [10.0, 20.0, 30.0, 40.0]\n",
            "After casting to booleans: [True, True, True, True]\n"
          ]
        }
      ]
    },
    {
      "cell_type": "code",
      "source": [
        "# Write a program that checks if a number is positive, negative, or zero#\n",
        "# Get input from the user\n",
        "num = float(input(\"Enter a number: \"))\n",
        "\n",
        "# Check and display the result\n",
        "if num > 0:\n",
        "    print(\"The number is positive.\")\n",
        "elif num < 0:\n",
        "    print(\"The number is negative.\")\n",
        "else:\n",
        "    print(\"The number is zero.\")\n"
      ],
      "metadata": {
        "colab": {
          "base_uri": "https://localhost:8080/"
        },
        "id": "LqnHdtO8-IRo",
        "outputId": "99613918-7908-4cea-816f-dbe77da5ee70"
      },
      "execution_count": 17,
      "outputs": [
        {
          "output_type": "stream",
          "name": "stdout",
          "text": [
            "Enter a number: 26\n",
            "The number is positive.\n"
          ]
        }
      ]
    },
    {
      "cell_type": "code",
      "source": [
        "# Write a for loop to print numbers from 1 to 10 #\n",
        "for i in range(1, 11):\n",
        "    print(i)\n"
      ],
      "metadata": {
        "colab": {
          "base_uri": "https://localhost:8080/"
        },
        "id": "c0xj3XeR-d12",
        "outputId": "d3bf6853-955e-4126-8a47-cc112ae6f759"
      },
      "execution_count": 18,
      "outputs": [
        {
          "output_type": "stream",
          "name": "stdout",
          "text": [
            "1\n",
            "2\n",
            "3\n",
            "4\n",
            "5\n",
            "6\n",
            "7\n",
            "8\n",
            "9\n",
            "10\n"
          ]
        }
      ]
    },
    {
      "cell_type": "code",
      "source": [
        "#. Write a Python program to find the sum of all even numbers between 1 and 50. #\n",
        "even_sum = 0\n",
        "\n",
        "for i in range(1, 51):\n",
        "    if i % 2 == 0:   # Check if the number is even\n",
        "        even_sum += i\n",
        "\n",
        "print(\"Sum of even numbers from 1 to 50 is:\", even_sum)\n"
      ],
      "metadata": {
        "colab": {
          "base_uri": "https://localhost:8080/"
        },
        "id": "Gw7pHUmp-tyN",
        "outputId": "ed956262-b8d5-4509-c5ff-dd11bc908cc1"
      },
      "execution_count": 19,
      "outputs": [
        {
          "output_type": "stream",
          "name": "stdout",
          "text": [
            "Sum of even numbers from 1 to 50 is: 650\n"
          ]
        }
      ]
    },
    {
      "cell_type": "code",
      "source": [
        "#Write a program to reverse a string using a while loop #\n",
        "text = input(\"Enter a string: \")\n",
        "\n",
        "reversed_text = \"\"\n",
        "index = len(text) - 1\n",
        "\n",
        "while index >= 0:\n",
        "    reversed_text += text[index]\n",
        "    index -= 1\n",
        "\n",
        "print(\"Reversed string:\", reversed_text)\n"
      ],
      "metadata": {
        "colab": {
          "base_uri": "https://localhost:8080/"
        },
        "id": "K-p4igZJ-_RP",
        "outputId": "038959c0-34d8-48b6-9798-b481fd2c4f06"
      },
      "execution_count": 20,
      "outputs": [
        {
          "output_type": "stream",
          "name": "stdout",
          "text": [
            "Enter a string: python\n",
            "Reversed string: nohtyp\n"
          ]
        }
      ]
    },
    {
      "cell_type": "code",
      "source": [
        "#. Write a Python program to calculate the factorial of a number provided by the user using a while loop #\n",
        "num = int(input(\"Enter a non-negative integer: \"))\n",
        "\n",
        "if num < 0:\n",
        "    print(\"Factorial is not defined for negative numbers.\")\n",
        "else:\n",
        "    factorial = 1\n",
        "    i = 1\n",
        "\n",
        "    while i <= num:\n",
        "        factorial *= i\n",
        "        i += 1\n",
        "\n",
        "    print(f\"Factorial of {num} is {factorial}\")\n"
      ],
      "metadata": {
        "colab": {
          "base_uri": "https://localhost:8080/"
        },
        "id": "5diX7DvC_XFB",
        "outputId": "249fe202-a31e-409a-b034-02e18ed16cbd"
      },
      "execution_count": 21,
      "outputs": [
        {
          "output_type": "stream",
          "name": "stdout",
          "text": [
            "Enter a non-negative integer: 5\n",
            "Factorial of 5 is 120\n"
          ]
        }
      ]
    }
  ]
}